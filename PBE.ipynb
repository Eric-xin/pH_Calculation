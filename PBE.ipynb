{
 "cells": [
  {
   "cell_type": "markdown",
   "metadata": {},
   "source": [
    "# Proton Balance Equation (PBE) based pH calculation"
   ]
  },
  {
   "cell_type": "code",
   "execution_count": 11,
   "metadata": {},
   "outputs": [],
   "source": [
    "from calculation import PBE_Acid, PBE_calc\n",
    "\n",
    "NH4 = PBE_Acid(conc=0.01, pKa=9.25, proton=1, proton_ref=1)\n",
    "pKa = [1.97, 6.82, 12.5]\n",
    "P = PBE_Acid(conc=0.01, pKa=pKa, proton=3, proton_ref=2)"
   ]
  },
  {
   "cell_type": "markdown",
   "metadata": {},
   "source": [
    "Note: Different to CBE calculation, PBE calculation requires:\n",
    "- The maximum number of protons the chemical can accept or donate\n",
    "- The reference number of protons (input level)\n",
    "Other parameters are the same as CBE calculation."
   ]
  },
  {
   "cell_type": "code",
   "execution_count": 12,
   "metadata": {},
   "outputs": [
    {
     "name": "stdout",
     "output_type": "stream",
     "text": [
      "[ 0 -1]\n"
     ]
    }
   ],
   "source": [
    "print(NH4.proton)"
   ]
  },
  {
   "cell_type": "code",
   "execution_count": 13,
   "metadata": {},
   "outputs": [
    {
     "name": "stdout",
     "output_type": "stream",
     "text": [
      "[ 1  0 -1 -2]\n"
     ]
    }
   ],
   "source": [
    "print(P.proton)"
   ]
  },
  {
   "cell_type": "markdown",
   "metadata": {},
   "source": [
    "*PBE_Acid.proton is the loss / gain number of proton for each species in the acid-base reaction.*"
   ]
  },
  {
   "cell_type": "code",
   "execution_count": 14,
   "metadata": {},
   "outputs": [
    {
     "name": "stdout",
     "output_type": "stream",
     "text": [
      "4.553231048583983\n"
     ]
    }
   ],
   "source": [
    "# print(NH4.conc)\n",
    "# print(P.conc)\n",
    "calc = PBE_calc(NH4, P)\n",
    "calc.pH_calc()\n",
    "\n",
    "print(calc.pH)"
   ]
  },
  {
   "cell_type": "markdown",
   "metadata": {},
   "source": [
    "**Calculation of pH of (NH4)2(HPO4)**"
   ]
  },
  {
   "cell_type": "code",
   "execution_count": 15,
   "metadata": {},
   "outputs": [],
   "source": [
    "from calculation import PBE_Acid, PBE_calc\n",
    "\n",
    "NH4 = PBE_Acid(conc=0.01 * 2, pKa=9.25, proton=1, proton_ref=1)\n",
    "pKa = [1.97, 6.82, 12.5]\n",
    "P = PBE_Acid(conc=0.01, pKa=pKa, proton=3, proton_ref=1)"
   ]
  },
  {
   "cell_type": "code",
   "execution_count": 16,
   "metadata": {},
   "outputs": [
    {
     "name": "stdout",
     "output_type": "stream",
     "text": [
      "7.874845123291015\n"
     ]
    }
   ],
   "source": [
    "# print(NH4.conc)\n",
    "# print(P.conc)\n",
    "calc = PBE_calc(NH4, P)\n",
    "calc.pH_calc()\n",
    "\n",
    "print(calc.pH)"
   ]
  },
  {
   "cell_type": "markdown",
   "metadata": {},
   "source": [
    "**Calculation of pH of HF**"
   ]
  },
  {
   "cell_type": "code",
   "execution_count": 17,
   "metadata": {},
   "outputs": [
    {
     "name": "stdout",
     "output_type": "stream",
     "text": [
      "2.641304779052733\n"
     ]
    }
   ],
   "source": [
    "HF = PBE_Acid(conc=0.01, pKa=3.17, proton=1, proton_ref=1)\n",
    "\n",
    "calc = PBE_calc(HF)\n",
    "calc.pH_calc()\n",
    "\n",
    "print(calc.pH)"
   ]
  },
  {
   "cell_type": "markdown",
   "metadata": {},
   "source": [
    "**Calculation of pH of HCl**"
   ]
  },
  {
   "cell_type": "code",
   "execution_count": 18,
   "metadata": {},
   "outputs": [
    {
     "name": "stdout",
     "output_type": "stream",
     "text": [
      "1.9999977111816385\n"
     ]
    }
   ],
   "source": [
    "from calculation import PBE_Inert\n",
    "\n",
    "HCl = PBE_Inert(conc=0.01, proton=1, proton_ref=1)\n",
    "\n",
    "# HCl = PBE_Acid(conc=0.01, Ka=100000, proton=1, proton_ref=1)\n",
    "\n",
    "calc = PBE_calc(HCl)\n",
    "calc.pH_calc()\n",
    "\n",
    "print(calc.pH)"
   ]
  },
  {
   "cell_type": "markdown",
   "metadata": {},
   "source": [
    "**Calculation of pH of NaOH**"
   ]
  },
  {
   "cell_type": "code",
   "execution_count": 19,
   "metadata": {},
   "outputs": [
    {
     "name": "stdout",
     "output_type": "stream",
     "text": [
      "11.995676422119143\n"
     ]
    }
   ],
   "source": [
    "from calculation import PBE_Inert\n",
    "\n",
    "NaOH = PBE_Inert(conc=0.01, proton=-1, proton_ref=-1)\n",
    "\n",
    "# NaOH = PBE_Acid(conc=0.01, pKa=14, proton=-1, proton_ref=-1)\n",
    "\n",
    "calc = PBE_calc(NaOH)\n",
    "calc.pH_calc()\n",
    "\n",
    "print(calc.pH)"
   ]
  },
  {
   "cell_type": "markdown",
   "metadata": {},
   "source": [
    "**Calculation of pH of HCl at a small concentration**"
   ]
  },
  {
   "cell_type": "code",
   "execution_count": 20,
   "metadata": {},
   "outputs": [
    {
     "name": "stdout",
     "output_type": "stream",
     "text": [
      "6.976239776611328\n"
     ]
    }
   ],
   "source": [
    "from calculation import PBE_Inert\n",
    "\n",
    "HCl = PBE_Inert(conc=1e-8, proton=1, proton_ref=1)\n",
    "\n",
    "# HCl = PBE_Acid(conc=0.01, Ka=100000, proton=1, proton_ref=1)\n",
    "\n",
    "calc = PBE_calc(HCl)\n",
    "calc.pH_calc()\n",
    "\n",
    "print(calc.pH)"
   ]
  }
 ],
 "metadata": {
  "kernelspec": {
   "display_name": "base",
   "language": "python",
   "name": "python3"
  },
  "language_info": {
   "codemirror_mode": {
    "name": "ipython",
    "version": 3
   },
   "file_extension": ".py",
   "mimetype": "text/x-python",
   "name": "python",
   "nbconvert_exporter": "python",
   "pygments_lexer": "ipython3",
   "version": "3.9.18"
  }
 },
 "nbformat": 4,
 "nbformat_minor": 2
}
